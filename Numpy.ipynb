{
  "metadata": {
    "kernelspec": {
      "name": "python",
      "display_name": "Python (Pyodide)",
      "language": "python"
    },
    "language_info": {
      "codemirror_mode": {
        "name": "python",
        "version": 3
      },
      "file_extension": ".py",
      "mimetype": "text/x-python",
      "name": "python",
      "nbconvert_exporter": "python",
      "pygments_lexer": "ipython3",
      "version": "3.8"
    }
  },
  "nbformat_minor": 4,
  "nbformat": 4,
  "cells": [
    {
      "cell_type": "code",
      "source": "import numpy as np\n\n# Step 1: Create an array of daily temperatures\ndaily_temperatures = np.array([22, 24, 23, 25, 26, 24, 23])  # Replace with actual temperatures\n\n# Step 2: Calculate the mean temperature\nmean_temperature = np.mean(daily_temperatures)\n\n# Step 3: Print the mean temperature\nprint(f\"Daily Temperatures: {daily_temperatures}\")\nprint(f\"Mean Temperature for the Week: {mean_temperature} Celsius\")\n",
      "metadata": {
        "trusted": true
      },
      "outputs": [
        {
          "name": "stdout",
          "text": "Daily Temperatures: [22 24 23 25 26 24 23]\nMean Temperature for the Week: 23.857142857142858 Celsius\n",
          "output_type": "stream"
        }
      ],
      "execution_count": 1
    },
    {
      "cell_type": "code",
      "source": "",
      "metadata": {
        "trusted": true
      },
      "outputs": [],
      "execution_count": null
    }
  ]
}